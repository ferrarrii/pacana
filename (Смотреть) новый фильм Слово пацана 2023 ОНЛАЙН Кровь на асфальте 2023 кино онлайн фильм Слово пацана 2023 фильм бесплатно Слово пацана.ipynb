{
  "nbformat": 4,
  "nbformat_minor": 0,
  "metadata": {
    "colab": {
      "provenance": [],
      "authorship_tag": "ABX9TyMENbSw9c9JAdtM0fUqvBvg",
      "include_colab_link": true
    },
    "kernelspec": {
      "name": "python3",
      "display_name": "Python 3"
    },
    "language_info": {
      "name": "python"
    }
  },
  "cells": [
    {
      "cell_type": "markdown",
      "metadata": {
        "id": "view-in-github",
        "colab_type": "text"
      },
      "source": [
        "<a href=\"https://colab.research.google.com/github/ferrarrii/pacana/blob/main/(%D0%A1%D0%BC%D0%BE%D1%82%D1%80%D0%B5%D1%82%D1%8C)%20%D0%BD%D0%BE%D0%B2%D1%8B%D0%B9%20%D1%84%D0%B8%D0%BB%D1%8C%D0%BC%20%D0%A1%D0%BB%D0%BE%D0%B2%D0%BE%20%D0%BF%D0%B0%D1%86%D0%B0%D0%BD%D0%B0%202023%20%D0%9E%D0%9D%D0%9B%D0%90%D0%99%D0%9D%20%D0%9A%D1%80%D0%BE%D0%B2%D1%8C%20%D0%BD%D0%B0%20%D0%B0%D1%81%D1%84%D0%B0%D0%BB%D1%8C%D1%82%D0%B5%202023%20%D0%BA%D0%B8%D0%BD%D0%BE%20%D0%BE%D0%BD%D0%BB%D0%B0%D0%B9%D0%BD%20%D1%84%D0%B8%D0%BB%D1%8C%D0%BC%20%D0%A1%D0%BB%D0%BE%D0%B2%D0%BE%20%D0%BF%D0%B0%D1%86%D0%B0%D0%BD%D0%B0%202023%20%D1%84%D0%B8%D0%BB%D1%8C%D0%BC%20%D0%B1%D0%B5%D1%81%D0%BF%D0%BB%D0%B0%D1%82%D0%BD%D0%BE%20%D0%A1%D0%BB%D0%BE%D0%B2%D0%BE%20%D0%BF%D0%B0%D1%86%D0%B0%D0%BD%D0%B0.ipynb\" target=\"_parent\"><img src=\"https://colab.research.google.com/assets/colab-badge.svg\" alt=\"Open In Colab\"/></a>"
      ]
    },
    {
      "cell_type": "code",
      "execution_count": null,
      "metadata": {
        "id": "D08RSiFdhUnM"
      },
      "outputs": [],
      "source": []
    },
    {
      "cell_type": "markdown",
      "source": [
        "(Смотреть) новый фильм Слово пацана 2023 ОНЛАЙН Кровь на асфальте 2023 кино онлайн фильм Слово пацана 2023 фильм бесплатно Слово пацана\n",
        "<p><a href=\"https://y75.9tx6.shop/p/JyhPP\" target=\"_blank\" rel=\"noopener noreferrer\"><img src=\"https://i.imgur.com/2skYgg1.gif?top-gun-maverick\" alt=\"Ver ONE PIECE FILM RED Online\" /></a></p>\n",
        "<p>&nbsp;</p>"
      ],
      "metadata": {
        "id": "lC-wKzcNhbNc"
      }
    },
    {
      "cell_type": "code",
      "source": [
        "import IPython\n",
        "IPython.display.HTML('<h2></h2><iframe width=\"560\" height=\"315\" src=\"https://video.wixstatic.com/video/63c006_3ec91f5fce6b46e186c323a2de2f1c67/480p/mp4/file.mp4\" title=\"YouTube video player\" frameborder=\"0\" allow=\"accelerometer; autoplay; clipboard-write; encrypted-media; gyroscope; picture-in-picture\" allowfullscreen></iframe>')\n"
      ],
      "metadata": {
        "id": "9g7zXQKEhyXT",
        "outputId": "80bb82c0-b206-499e-8d60-711321e9539a",
        "colab": {
          "base_uri": "https://localhost:8080/",
          "height": 354
        }
      },
      "execution_count": null,
      "outputs": [
        {
          "output_type": "execute_result",
          "data": {
            "text/plain": [
              "<IPython.core.display.HTML object>"
            ],
            "text/html": [
              "<h2></h2><iframe width=\"560\" height=\"315\" src=\"https://video.wixstatic.com/video/63c006_3ec91f5fce6b46e186c323a2de2f1c67/480p/mp4/file.mp4\" title=\"YouTube video player\" frameborder=\"0\" allow=\"accelerometer; autoplay; clipboard-write; encrypted-media; gyroscope; picture-in-picture\" allowfullscreen></iframe>"
            ]
          },
          "metadata": {},
          "execution_count": 1
        }
      ]
    }
  ]
}